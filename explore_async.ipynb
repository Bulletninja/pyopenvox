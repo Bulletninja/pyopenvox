{
 "cells": [
  {
   "cell_type": "code",
   "execution_count": 7,
   "metadata": {
    "collapsed": false
   },
   "outputs": [
    {
     "name": "stdout",
     "output_type": "stream",
     "text": [
      "available_ports:  ['umts-1.1', 'umts-2.3']\n",
      "sending message through port umts-1.1:  <messaging.Message object at 0x10418fcf8>\n",
      "sending message through port umts-2.3:  <messaging.Message object at 0x10418f5c0>\n",
      "message sent\n",
      "<Thread(Thread-49, started 123145399271424)>\n",
      "message sent\n",
      "<Thread(Thread-50, started 123145378250752)>\n",
      "requeueing port umts-1.1.\n",
      "requeueing port umts-2.3.\n",
      "sending message through port umts-2.3:  <messaging.Message object at 0x10418f908>\n",
      "requeueing port umts-1.1.\n",
      "sending message through port umts-1.1:  <messaging.Message object at 0x10418f8d0>\n",
      "message sent\n",
      "<Thread(Thread-51, started 123145366130688)>\n",
      "message sent\n",
      "<Thread(Thread-52, started 123145372995584)>\n",
      "requeueing port umts-2.3.\n",
      "sending message through port umts-2.3:  <messaging.Message object at 0x10418feb8>\n",
      "requeueing port umts-1.1.\n",
      "message sent\n",
      "<Thread(Thread-53, started 123145366130688)>\n",
      "requeueing port umts-2.3.\n"
     ]
    }
   ],
   "source": [
    "from messaging import Message, QueueManager\n",
    "manager = QueueManager(available_ports = ['umts-1.1', 'umts-2.3'])\n",
    "message_queue = [Message(number='6681610296', text='esta es la prueba '+str(i)) for i in range(1, 6)]\n",
    "for i in range(len(message_queue)):\n",
    "    current_message = message_queue.pop()\n",
    "    curr = manager.send(current_message)\n",
    "#    curr.join()"
   ]
  },
  {
   "cell_type": "code",
   "execution_count": null,
   "metadata": {
    "collapsed": true
   },
   "outputs": [],
   "source": []
  },
  {
   "cell_type": "code",
   "execution_count": null,
   "metadata": {
    "collapsed": true
   },
   "outputs": [],
   "source": []
  }
 ],
 "metadata": {
  "anaconda-cloud": {},
  "kernelspec": {
   "display_name": "Python [Root]",
   "language": "python",
   "name": "Python [Root]"
  },
  "language_info": {
   "codemirror_mode": {
    "name": "ipython",
    "version": 3
   },
   "file_extension": ".py",
   "mimetype": "text/x-python",
   "name": "python",
   "nbconvert_exporter": "python",
   "pygments_lexer": "ipython3",
   "version": "3.5.2"
  }
 },
 "nbformat": 4,
 "nbformat_minor": 0
}
